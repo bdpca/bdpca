{
 "cells": [
  {
   "cell_type": "code",
   "execution_count": 1,
   "metadata": {},
   "outputs": [
    {
     "name": "stdout",
     "output_type": "stream",
     "text": [
      "Shingle 1: ['Th', 'hi', 'is', 's ', ' t', 'ta', 'ab', 'bl', 'le', 'e ', ' l', 'li', 'is', 'st', 'ts', 's ', ' t', 'th', 'he', 'e ', ' l', 'la', 'at', 'te', 'es', 'st', 't ', ' s', 'su', 'up', 'pp', 'po', 'or', 'rt', 'te', 'ed', 'd ', ' E', 'En', 'ng', 'gl', 'li', 'is', 'sh', 'h ', ' (', '(e', 'en', 'n-', '-U', 'US', 'S)', ') ', ' M', 'Mi', 'ic', 'cr', 'ro', 'os', 'so', 'of', 'ft', 't ', ' V', 'Vi', 'is', 'su', 'ua', 'al', 'l ', ' C', 'C+', '++', '+ ', ' R', 'Re', 'ed', 'di', 'is', 'st', 'tr', 'ri', 'ib', 'bu', 'ut', 'ta', 'ab', 'bl', 'le', 'e ', ' p', 'pa', 'ac', 'ck', 'ka', 'ag', 'ge', 'es', 's ', ' f', 'fo', 'or', 'r ', ' V', 'Vi', 'is', 'su', 'ua', 'al', 'l ', ' S', 'St', 'tu', 'ud', 'di', 'io', 'o ', ' 2', '20', '01', '15', '5,', ', ', ' 2', '20', '01', '17', '7,', ', ', ' 2', '20', '01', '19', '9,', ', ', ' a', 'an', 'nd', 'd ', ' 2', '20', '02', '22', '2.', '. ', ' T', 'Th', 'he', 'e ', ' l', 'la', 'at', 'te', 'es', 'st', 't ', ' s', 'su', 'up', 'pp', 'po', 'or', 'rt', 'te', 'ed', 'd ', ' v', 've', 'er', 'rs', 'si', 'io', 'on', 'n ', ' h', 'ha', 'as', 's ', ' t', 'th', 'he', 'e ', ' m', 'mo', 'os', 'st', 't ', ' r', 're', 'ec', 'ce', 'en', 'nt', 'tl', 'ly', 'y ', ' i', 'im', 'mp', 'pl', 'le', 'em', 'me', 'en', 'nt', 'te', 'ed', 'd ', ' C', 'C+', '++', '+ ', ' f', 'fe', 'ea', 'at', 'tu', 'ur', 're', 'es', 's,', ', ', ' s', 'se', 'ec', 'cu', 'ur', 'ri', 'it', 'ty', 'y,', ', ', ' r', 're', 'el', 'li', 'ia', 'ab', 'bi', 'il', 'li', 'it', 'ty', 'y,', ', ', ' a', 'an', 'nd', 'd ', ' p', 'pe', 'er', 'rf', 'fo', 'or', 'rm', 'ma', 'an', 'nc', 'ce', 'e ', ' i', 'im', 'mp', 'pr', 'ro', 'ov', 've', 'em', 'me', 'en', 'nt', 'ts', 's.', '. ', ' I', 'It', 't ', ' a', 'al', 'ls', 'so', 'o ', ' i', 'in', 'nc', 'cl', 'lu', 'ud', 'de', 'es', 's ', ' t', 'th', 'he', 'e ', ' l', 'la', 'at', 'te', 'es', 'st', 't ', ' C', 'C+', '++']\n",
      "Shingle 2: ['Un', 'nl', 'li', 'ik', 'ke', 'e ', ' o', 'ol', 'ld', 'de', 'er', 'r ', ' v', 've', 'er', 'rs', 'si', 'io', 'on', 'ns', 's ', ' o', 'of', 'f ', ' V', 'Vi', 'is', 'su', 'ua', 'al', 'l ', ' S', 'St', 'tu', 'ud', 'di', 'io', 'o,', ', ', ' w', 'wh', 'hi', 'ic', 'ch', 'h ', ' h', 'ha', 'av', 've', 'e ', ' i', 'in', 'nf', 'fr', 're', 'eq', 'qu', 'ue', 'en', 'nt', 't ', ' r', 're', 'ed', 'di', 'is', 'st', 't ', ' u', 'up', 'pd', 'da', 'at', 'te', 'es', 's,', ', ', ' t', 'th', 'he', 'e ', ' v', 've', 'er', 'rs', 'si', 'io', 'on', 'n ', ' n', 'nu', 'um', 'mb', 'be', 'er', 'r ', ' i', 'is', 'sn', \"n'\", \"'t\", 't ', ' l', 'li', 'is', 'st', 'te', 'ed', 'd ', ' i', 'in', 'n ', ' t', 'th', 'he', 'e ', ' f', 'fo', 'ol', 'll', 'lo', 'ow', 'wi', 'in', 'ng', 'g ', ' t', 'ta', 'ab', 'bl', 'le', 'e ', ' f', 'fo', 'or', 'r ', ' V', 'Vi', 'is', 'su', 'ua', 'al', 'l ', ' S', 'St', 'tu', 'ud', 'di', 'io', 'o ', ' 2', '20', '01', '15', '5-', '-2', '20', '02', '22', '2 ', ' b', 'be', 'ec', 'ca', 'au', 'us', 'se', 'e ', ' t', 'th', 'he', 'e ', ' r', 're', 'ed', 'di', 'is', 'st', 't ', ' i', 'is', 's ', ' u', 'up', 'pd', 'da', 'at', 'te', 'ed', 'd ', ' f', 'fr', 're', 'eq', 'qu', 'ue', 'en', 'nt', 'tl', 'ly', 'y.', '. ', ' T', 'To', 'o ', ' f', 'fi', 'in', 'nd', 'd ', ' t', 'th', 'he', 'e ', ' v', 've', 'er', 'rs', 'si', 'io', 'on', 'n ', ' n', 'nu', 'um', 'mb', 'be', 'er', 'r ', ' o', 'of', 'f ', ' t', 'th', 'he', 'e ', ' l', 'la', 'at', 'te', 'es', 'st', 't ', ' r', 're', 'ed', 'di', 'is', 'st', 't,', ', ', ' d', 'do', 'ow', 'wn', 'nl', 'lo', 'oa', 'ad', 'd ', ' t', 'th', 'he', 'e ', ' r', 're', 'ed', 'di', 'is', 'st', 't ', ' y', 'yo', 'ou', \"u'\", \"'r\", 're', 'e ', ' i', 'in', 'nt', 'te', 'er', 're', 'es', 'st', 'te', 'ed', 'd ', ' i', 'in', 'n ', ' u', 'us', 'si', 'in', 'ng', 'g ', ' o', 'on', 'ne', 'e ', ' o', 'of', 'f ', ' t', 'th', 'he', 'e ', ' f', 'fo', 'ol', 'll', 'lo', 'ow', 'wi', 'in', 'ng', 'g ', ' l', 'li', 'in', 'nk', 'ks', 's.']\n",
      "All shingles: ['ia', 'up', 'gl', 'la', 'bl', 'bi', 'is', \"n'\", 'in', 'ld', 'l ', ' i', '-2', \"u'\", 'su', 'rs', 'an', 'Mi', ' f', '02', 'um', '17', ' (', 'ic', 'ud', ', ', 'It', 'ck', 'ts', 'wi', 'ri', 'mp', 'ke', 'fr', 's ', 'n-', 'ea', 'tu', 'o,', 'f ', 'on', 'fo', 'yo', ' E', 'ac', ' b', 'Re', 'Un', 'y ', 'li', 'qu', 'ur', '7,', 'sn', 'll', 'do', 'tl', 'le', 'ty', 'ge', 've', 'hi', 'lu', 'wn', 'Th', 'oa', 'il', 'es', ' a', 'ks', ' l', 'ng', 'ha', 'tr', 'of', ' S', 'nu', ' M', 'pl', 'ue', '22', 'at', '2.', 'os', 're', 'e ', 'po', 'nf', 'rm', 'ma', 'eq', '19', ' m', ' w', 'g ', 'ol', 'so', 'se', 'st', 'mo', 'nd', ' p', 'bu', 's,', 'pr', 'nk', 'cu', 'ou', '15', 'as', '(e', 'io', 'En', ' V', 'im', 'di', 'ov', 'ro', '5,', 'te', 'da', '5-', 'th', ' h', 'Vi', 'pd', 't,', 'St', 'er', 'cl', 'fi', 'he', '+ ', '++', ' o', ' 2', 'ik', ' r', 'av', ' d', 'de', ' v', \"'r\", 'sh', 'ec', 'ca', 'n ', 'me', \"'t\", 'ut', 's.', ' y', 'US', 'ab', '20', ' n', '01', 'S)', 'cr', 'or', 'ag', 'be', ' R', 'o ', 'To', ' t', 'ce', 'ua', 'C+', 'pe', 'rf', 'ow', 'ls', '9,', ' s', '-U', 'ns', 'nt', 'nc', ' C', 'ed', 'd ', ') ', 'en', ' T', 'it', 'ly', 't ', 'mb', 'al', 'y,', 'ch', 'rt', '2 ', 'si', '. ', ' I', 'r ', 'nl', 'ft', 'au', ' u', 'pp', 'pa', 'em', 'el', 'ad', 'us', 'h ', 'ib', 'y.', 'wh', 'fe', 'ne', 'lo', 'ka', 'ta']\n",
      "Number of unique shingles: 217\n",
      "    Shingle  doc1  doc2  Hash1  Hash2\n",
      "0        ia     1     0      5      3\n",
      "1        up     1     1     22     14\n",
      "2        gl     1     0     39     25\n",
      "3        la     1     1     56     36\n",
      "4        bl     1     1     73     47\n",
      "..      ...   ...   ...    ...    ...\n",
      "212      fe     1     0    137    165\n",
      "213      ne     0     1    154    176\n",
      "214      lo     0     1    171    187\n",
      "215      ka     1     0    188    198\n",
      "216      ta     1     1    205    209\n",
      "\n",
      "[217 rows x 5 columns]\n"
     ]
    },
    {
     "name": "stderr",
     "output_type": "stream",
     "text": [
      "C:\\Users\\noele\\AppData\\Local\\Temp\\ipykernel_9932\\2007487896.py:31: FutureWarning: Downcasting object dtype arrays on .fillna, .ffill, .bfill is deprecated and will change in a future version. Call result.infer_objects(copy=False) instead. To opt-in to the future behavior, set `pd.set_option('future.no_silent_downcasting', True)`\n",
      "  df.fillna(0, inplace=True)\n"
     ]
    }
   ],
   "source": [
    "import pandas as pd\n",
    "import numpy as np\n",
    "import random\n",
    "\n",
    "def shinglewithoutsepr(text, k):\n",
    "\n",
    "    shingles = []\n",
    "    for i in range(len(text) - k + 1):\n",
    "        shingle = text[i:i + k]\n",
    "        shingles.append(shingle)\n",
    "    return shingles\n",
    "\n",
    "# Read the content of the two text files\n",
    "with open(\"1.txt\", \"r\") as file:\n",
    "    doc1 = file.read()\n",
    "\n",
    "with open(\"2.txt\", \"r\") as file:\n",
    "    doc2 = file.read()\n",
    "\n",
    "kval = 2\n",
    "shingle1 = shinglewithoutsepr(doc1, kval)\n",
    "shingle2 = shinglewithoutsepr(doc2, kval)\n",
    "all_shingles = list(set(shingle1 + shingle2))\n",
    "\n",
    "print(\"Shingle 1:\", shingle1)\n",
    "print(\"Shingle 2:\", shingle2)\n",
    "print(\"All shingles:\", all_shingles)\n",
    "\n",
    "df = pd.DataFrame(columns=[\"Shingle\", \"doc1\", \"doc2\"])\n",
    "df[\"Shingle\"] = all_shingles\n",
    "df.fillna(0, inplace=True)\n",
    "\n",
    "for i in range(len(shingle1)):\n",
    "    df.loc[df[\"Shingle\"] == shingle1[i], \"doc1\"] = 1\n",
    "\n",
    "for i in range(len(shingle2)):\n",
    "    df.loc[df[\"Shingle\"] == shingle2[i], \"doc2\"] = 1\n",
    "\n",
    "# Calculate hash values\n",
    "df[\"Hash1\"] = df.index.map(lambda x: (17 * int(x) + 5) % len(df))\n",
    "df[\"Hash2\"] = df.index.map(lambda x: (11 * int(x) + 3) % len(df))\n",
    "\n",
    "print(\"Number of unique shingles:\", len(df))\n",
    "print(df)"
   ]
  }
 ],
 "metadata": {
  "kernelspec": {
   "display_name": "Python 3",
   "language": "python",
   "name": "python3"
  },
  "language_info": {
   "codemirror_mode": {
    "name": "ipython",
    "version": 3
   },
   "file_extension": ".py",
   "mimetype": "text/x-python",
   "name": "python",
   "nbconvert_exporter": "python",
   "pygments_lexer": "ipython3",
   "version": "3.12.3"
  }
 },
 "nbformat": 4,
 "nbformat_minor": 2
}
