{
 "cells": [
  {
   "cell_type": "code",
   "execution_count": 1,
   "metadata": {},
   "outputs": [
    {
     "name": "stdout",
     "output_type": "stream",
     "text": [
      "   x  x.el  x.val  n(2*x.val-1)\n",
      "0  1     1      4           161\n",
      "1  5     4      6           253\n",
      "2  8     6      2            69\n",
      "\n",
      "Result = 161.0\n"
     ]
    }
   ],
   "source": [
    "import pandas as pd\n",
    " \n",
    "stream = [1, 2, 7, 1, 4, 9, 4, 6, 1, 6, 4, 4, 5, 5, 5, 9, 8, 7, 2, 2, 4, 4, 1]\n",
    "x0 = 1\n",
    "x1 = 5\n",
    "x2 = 8\n",
    "n = len(stream)\n",
    "def count_occurrences(stream, pos):\n",
    "  element = stream[pos-1]\n",
    "  return sum(1 for elem in stream[pos-1:] if elem == element)\n",
    " \n",
    "data = {'x': [x0, x1, x2], 'x.el': [stream[x0-1], stream[x1-1], stream[x2-1]]}\n",
    "data['x.val'] = [count_occurrences(stream, x) for x in data['x']]\n",
    "data['n(2*x.val-1)'] = [n * (2 *val-1) for val in data['x.val']]\n",
    "average = sum(data['n(2*x.val-1)']) / len(data['n(2*x.val-1)'])\n",
    "print(pd.DataFrame(data))\n",
    "print(f\"\\nResult = {average}\")"
   ]
  }
 ],
 "metadata": {
  "kernelspec": {
   "display_name": "Python 3",
   "language": "python",
   "name": "python3"
  },
  "language_info": {
   "codemirror_mode": {
    "name": "ipython",
    "version": 3
   },
   "file_extension": ".py",
   "mimetype": "text/x-python",
   "name": "python",
   "nbconvert_exporter": "python",
   "pygments_lexer": "ipython3",
   "version": "3.12.3"
  }
 },
 "nbformat": 4,
 "nbformat_minor": 2
}
