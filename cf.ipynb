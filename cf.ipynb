{
 "cells": [
  {
   "cell_type": "code",
   "execution_count": 3,
   "metadata": {},
   "outputs": [
    {
     "name": "stdout",
     "output_type": "stream",
     "text": [
      "Recommended items for user 0 : [1]\n"
     ]
    }
   ],
   "source": [
    "import numpy as np\n",
    "\n",
    "# Create a sample user-item matrix (rows: users, columns: items)\n",
    "user_item_matrix = np.array([[1, 0, 1, 1],\n",
    "                              [1, 0, 2, 3],\n",
    "                              [5, 2, 3, 3],\n",
    "                              [4, 1, 0, 2]])\n",
    "\n",
    "# Calculate similarity matrix using cosine similarity\n",
    "def cosine_similarity(matrix):\n",
    "    similarity_matrix = np.zeros((matrix.shape[0], matrix.shape[0]))\n",
    "    for i in range(matrix.shape[0]):\n",
    "        for j in range(matrix.shape[0]):\n",
    "            if i == j:\n",
    "                similarity_matrix[i, j] = 1\n",
    "            else:\n",
    "                similarity_matrix[i, j] = np.dot(matrix[i], matrix[j]) / (np.linalg.norm(matrix[i]) * np.linalg.norm(matrix[j]))\n",
    "    return similarity_matrix\n",
    "\n",
    "similarity_matrix = cosine_similarity(user_item_matrix)\n",
    "\n",
    "# Make recommendations for a given user\n",
    "def make_recommendations(user_id, user_item_matrix, similarity_matrix, k=2):\n",
    "    user_vector = user_item_matrix[user_id]\n",
    "    weighted_sum = np.zeros(user_item_matrix.shape[1])\n",
    "    sum_of_weights = np.zeros(user_item_matrix.shape[1])\n",
    "\n",
    "    # Calculate weighted sum and sum of weights\n",
    "    for i in range(user_item_matrix.shape[0]):\n",
    "        if i != user_id:\n",
    "            weighted_sum += similarity_matrix[user_id, i] * user_item_matrix[i]\n",
    "            sum_of_weights += np.abs(similarity_matrix[user_id, i])\n",
    "\n",
    "    # Calculate the recommendation scores\n",
    "    recommendation_scores = weighted_sum / sum_of_weights\n",
    "\n",
    "    # Sort the recommendation scores in descending order\n",
    "    sorted_indices = np.argsort(recommendation_scores)[::-1]\n",
    "\n",
    "    # Get the top k item indices to recommend\n",
    "    top_indices = [i for i in sorted_indices if user_vector[i] == 0][:k]\n",
    "\n",
    "    return top_indices\n",
    "\n",
    "# Make recommendations for user 0\n",
    "user_id = 0\n",
    "k = 2\n",
    "recommendations = make_recommendations(user_id, user_item_matrix, similarity_matrix, k)\n",
    "print(\"Recommended items for user\", user_id, \":\", recommendations)"
   ]
  }
 ],
 "metadata": {
  "kernelspec": {
   "display_name": "Python 3",
   "language": "python",
   "name": "python3"
  },
  "language_info": {
   "codemirror_mode": {
    "name": "ipython",
    "version": 3
   },
   "file_extension": ".py",
   "mimetype": "text/x-python",
   "name": "python",
   "nbconvert_exporter": "python",
   "pygments_lexer": "ipython3",
   "version": "3.12.3"
  }
 },
 "nbformat": 4,
 "nbformat_minor": 2
}
