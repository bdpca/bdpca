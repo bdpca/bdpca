{
 "cells": [
  {
   "cell_type": "code",
   "execution_count": 1,
   "id": "53680aca-21bd-4687-adf0-35cd812fd147",
   "metadata": {},
   "outputs": [
    {
     "name": "stdout",
     "output_type": "stream",
     "text": [
      "Defaulting to user installation because normal site-packages is not writeable\n",
      "Collecting findspark\n",
      "  Using cached findspark-2.0.1-py2.py3-none-any.whl.metadata (352 bytes)\n",
      "Using cached findspark-2.0.1-py2.py3-none-any.whl (4.4 kB)\n",
      "Installing collected packages: findspark\n",
      "Successfully installed findspark-2.0.1\n",
      "Note: you may need to restart the kernel to use updated packages.\n"
     ]
    }
   ],
   "source": [
    "pip install findspark"
   ]
  },
  {
   "cell_type": "code",
   "execution_count": 2,
   "id": "086b5c56-f28f-4ac9-af19-6f0b6e89688a",
   "metadata": {},
   "outputs": [
    {
     "name": "stdout",
     "output_type": "stream",
     "text": [
      "Defaulting to user installation because normal site-packages is not writeable\n",
      "Requirement already satisfied: pyspark in c:\\users\\noele\\appdata\\local\\packages\\pythonsoftwarefoundation.python.3.12_qbz5n2kfra8p0\\localcache\\local-packages\\python312\\site-packages (3.5.1)\n",
      "Requirement already satisfied: py4j==0.10.9.7 in c:\\users\\noele\\appdata\\local\\packages\\pythonsoftwarefoundation.python.3.12_qbz5n2kfra8p0\\localcache\\local-packages\\python312\\site-packages (from pyspark) (0.10.9.7)\n",
      "Note: you may need to restart the kernel to use updated packages.\n"
     ]
    }
   ],
   "source": [
    "pip install pyspark"
   ]
  },
  {
   "cell_type": "code",
   "execution_count": 3,
   "id": "6fbf5359-86b1-47a6-b675-2f76c79e26a5",
   "metadata": {},
   "outputs": [],
   "source": [
    "import findspark\n",
    "findspark.init()\n",
    "from pyspark.sql import SparkSession\n",
    "from pyspark import SparkContext\n",
    "spark = SparkSession.builder.appName('deeplearn').getOrCreate()"
   ]
  },
  {
   "cell_type": "code",
   "execution_count": 4,
   "id": "26df2e5c-5616-4f89-919f-cc275e9942f9",
   "metadata": {},
   "outputs": [
    {
     "name": "stdout",
     "output_type": "stream",
     "text": [
      "root\n",
      " |-- Pregnancies: string (nullable = true)\n",
      " |-- Glucose: string (nullable = true)\n",
      " |-- BloodPressure: string (nullable = true)\n",
      " |-- SkinThickness: string (nullable = true)\n",
      " |-- Insulin: string (nullable = true)\n",
      " |-- BMI: string (nullable = true)\n",
      " |-- DiabetesPedigreeFunction: string (nullable = true)\n",
      " |-- Age: string (nullable = true)\n",
      " |-- Outcome: string (nullable = true)\n",
      "\n"
     ]
    }
   ],
   "source": [
    "# read a csv file\n",
    "my_data = spark.read.csv('diabetes.csv',header=True)\n",
    "\n",
    "# see the default schema of the dataframe\n",
    "my_data.printSchema()"
   ]
  },
  {
   "cell_type": "code",
   "execution_count": 5,
   "id": "f63795b2-59c8-476a-ac0d-41b5fab875d1",
   "metadata": {},
   "outputs": [
    {
     "name": "stdout",
     "output_type": "stream",
     "text": [
      "root\n",
      " |-- Pregnancies: integer (nullable = true)\n",
      " |-- Glucose: integer (nullable = true)\n",
      " |-- BloodPressure: integer (nullable = true)\n",
      " |-- SkinThickness: integer (nullable = true)\n",
      " |-- Insulin: integer (nullable = true)\n",
      " |-- BMI: double (nullable = true)\n",
      " |-- DiabetesPedigreeFunction: double (nullable = true)\n",
      " |-- Age: integer (nullable = true)\n",
      " |-- Outcome: integer (nullable = true)\n",
      "\n"
     ]
    }
   ],
   "source": [
    "import pyspark.sql.types as tp\n",
    "\n",
    "# define the schema\n",
    "my_schema = tp.StructType([\n",
    "    tp.StructField(name= 'Pregnancies', dataType= tp.IntegerType(),   nullable= True),\n",
    "    tp.StructField(name= 'Glucose', dataType= tp.IntegerType(),    nullable= True),\n",
    "    tp.StructField(name= 'BloodPressure',       dataType= tp.IntegerType(),   nullable= True),\n",
    "    tp.StructField(name= 'SkinThickness',  dataType= tp.IntegerType(),    nullable= True),\n",
    "    tp.StructField(name= 'Insulin',   dataType= tp.IntegerType(),    nullable= True),\n",
    "    tp.StructField(name= 'BMI',       dataType= tp.DoubleType(),    nullable= True),\n",
    "    tp.StructField(name= 'DiabetesPedigreeFunction',    dataType= tp.DoubleType(),   nullable= True),\n",
    "    tp.StructField(name= 'Age',           dataType= tp.IntegerType(),   nullable= True),\n",
    "    tp.StructField(name= 'Outcome',       dataType= tp.IntegerType(),   nullable= True)\n",
    "])\n",
    "\n",
    "# read the data again with the defined schema\n",
    "my_data = spark.read.csv('diabetes.csv',schema= my_schema,header= True)\n",
    "\n",
    "# print the schema\n",
    "my_data.printSchema()"
   ]
  },
  {
   "cell_type": "code",
   "execution_count": 6,
   "id": "fdd80c92-c269-4852-a64d-5daa06b9eb4b",
   "metadata": {},
   "outputs": [
    {
     "data": {
      "text/plain": [
       "(768, 9)"
      ]
     },
     "execution_count": 6,
     "metadata": {},
     "output_type": "execute_result"
    }
   ],
   "source": [
    "(my_data.count() , len(my_data.columns))"
   ]
  },
  {
   "cell_type": "code",
   "execution_count": 7,
   "id": "2ed8b82c-3bcc-4de1-93f6-6a676e1f7813",
   "metadata": {},
   "outputs": [
    {
     "data": {
      "text/plain": [
       "Row(Pregnancies=6, Glucose=148, BloodPressure=72, SkinThickness=35, Insulin=0, BMI=33.6, DiabetesPedigreeFunction=0.627, Age=50, Outcome=1)"
      ]
     },
     "execution_count": 7,
     "metadata": {},
     "output_type": "execute_result"
    }
   ],
   "source": [
    "my_data.head()"
   ]
  },
  {
   "cell_type": "code",
   "execution_count": 8,
   "id": "9e2db091-0f73-4519-b1c5-52c0a7da0d50",
   "metadata": {},
   "outputs": [
    {
     "ename": "ModuleNotFoundError",
     "evalue": "No module named 'distutils'",
     "output_type": "error",
     "traceback": [
      "\u001b[1;31m---------------------------------------------------------------------------\u001b[0m",
      "\u001b[1;31mModuleNotFoundError\u001b[0m                       Traceback (most recent call last)",
      "Cell \u001b[1;32mIn[8], line 1\u001b[0m\n\u001b[1;32m----> 1\u001b[0m \u001b[38;5;28;01mfrom\u001b[39;00m \u001b[38;5;21;01mpyspark\u001b[39;00m\u001b[38;5;21;01m.\u001b[39;00m\u001b[38;5;21;01mml\u001b[39;00m\u001b[38;5;21;01m.\u001b[39;00m\u001b[38;5;21;01mfeature\u001b[39;00m \u001b[38;5;28;01mimport\u001b[39;00m Imputer\n\u001b[0;32m      2\u001b[0m imputer \u001b[38;5;241m=\u001b[39m Imputer(\n\u001b[0;32m      3\u001b[0m     inputCols\u001b[38;5;241m=\u001b[39mmy_data\u001b[38;5;241m.\u001b[39mcolumns,\n\u001b[0;32m      4\u001b[0m     outputCols\u001b[38;5;241m=\u001b[39m[\u001b[38;5;124m\"\u001b[39m\u001b[38;5;132;01m{}\u001b[39;00m\u001b[38;5;124m_imputed\u001b[39m\u001b[38;5;124m\"\u001b[39m\u001b[38;5;241m.\u001b[39mformat(c) \u001b[38;5;28;01mfor\u001b[39;00m c \u001b[38;5;129;01min\u001b[39;00m my_data\u001b[38;5;241m.\u001b[39mcolumns]\n\u001b[0;32m      5\u001b[0m     )\u001b[38;5;241m.\u001b[39msetStrategy(\u001b[38;5;124m\"\u001b[39m\u001b[38;5;124mmedian\u001b[39m\u001b[38;5;124m\"\u001b[39m)\n\u001b[0;32m      8\u001b[0m my_data1 \u001b[38;5;241m=\u001b[39m imputer\u001b[38;5;241m.\u001b[39mfit(my_data)\u001b[38;5;241m.\u001b[39mtransform(my_data)\n",
      "File \u001b[1;32m~\\AppData\\Local\\Packages\\PythonSoftwareFoundation.Python.3.12_qbz5n2kfra8p0\\LocalCache\\local-packages\\Python312\\site-packages\\pyspark\\ml\\__init__.py:31\u001b[0m\n\u001b[0;32m     22\u001b[0m \u001b[38;5;28;01mfrom\u001b[39;00m \u001b[38;5;21;01mpyspark\u001b[39;00m\u001b[38;5;21;01m.\u001b[39;00m\u001b[38;5;21;01mml\u001b[39;00m\u001b[38;5;21;01m.\u001b[39;00m\u001b[38;5;21;01mbase\u001b[39;00m \u001b[38;5;28;01mimport\u001b[39;00m (\n\u001b[0;32m     23\u001b[0m     Estimator,\n\u001b[0;32m     24\u001b[0m     Model,\n\u001b[1;32m   (...)\u001b[0m\n\u001b[0;32m     28\u001b[0m     UnaryTransformer,\n\u001b[0;32m     29\u001b[0m )\n\u001b[0;32m     30\u001b[0m \u001b[38;5;28;01mfrom\u001b[39;00m \u001b[38;5;21;01mpyspark\u001b[39;00m\u001b[38;5;21;01m.\u001b[39;00m\u001b[38;5;21;01mml\u001b[39;00m\u001b[38;5;21;01m.\u001b[39;00m\u001b[38;5;21;01mpipeline\u001b[39;00m \u001b[38;5;28;01mimport\u001b[39;00m Pipeline, PipelineModel\n\u001b[1;32m---> 31\u001b[0m \u001b[38;5;28;01mfrom\u001b[39;00m \u001b[38;5;21;01mpyspark\u001b[39;00m\u001b[38;5;21;01m.\u001b[39;00m\u001b[38;5;21;01mml\u001b[39;00m \u001b[38;5;28;01mimport\u001b[39;00m (\n\u001b[0;32m     32\u001b[0m     classification,\n\u001b[0;32m     33\u001b[0m     clustering,\n\u001b[0;32m     34\u001b[0m     evaluation,\n\u001b[0;32m     35\u001b[0m     feature,\n\u001b[0;32m     36\u001b[0m     fpm,\n\u001b[0;32m     37\u001b[0m     image,\n\u001b[0;32m     38\u001b[0m     recommendation,\n\u001b[0;32m     39\u001b[0m     regression,\n\u001b[0;32m     40\u001b[0m     stat,\n\u001b[0;32m     41\u001b[0m     tuning,\n\u001b[0;32m     42\u001b[0m     util,\n\u001b[0;32m     43\u001b[0m     linalg,\n\u001b[0;32m     44\u001b[0m     param,\n\u001b[0;32m     45\u001b[0m )\n\u001b[0;32m     46\u001b[0m \u001b[38;5;28;01mfrom\u001b[39;00m \u001b[38;5;21;01mpyspark\u001b[39;00m\u001b[38;5;21;01m.\u001b[39;00m\u001b[38;5;21;01mml\u001b[39;00m\u001b[38;5;21;01m.\u001b[39;00m\u001b[38;5;21;01mtorch\u001b[39;00m\u001b[38;5;21;01m.\u001b[39;00m\u001b[38;5;21;01mdistributor\u001b[39;00m \u001b[38;5;28;01mimport\u001b[39;00m TorchDistributor\n\u001b[0;32m     48\u001b[0m __all__ \u001b[38;5;241m=\u001b[39m [\n\u001b[0;32m     49\u001b[0m     \u001b[38;5;124m\"\u001b[39m\u001b[38;5;124mTransformer\u001b[39m\u001b[38;5;124m\"\u001b[39m,\n\u001b[0;32m     50\u001b[0m     \u001b[38;5;124m\"\u001b[39m\u001b[38;5;124mUnaryTransformer\u001b[39m\u001b[38;5;124m\"\u001b[39m,\n\u001b[1;32m   (...)\u001b[0m\n\u001b[0;32m     70\u001b[0m     \u001b[38;5;124m\"\u001b[39m\u001b[38;5;124mTorchDistributor\u001b[39m\u001b[38;5;124m\"\u001b[39m,\n\u001b[0;32m     71\u001b[0m ]\n",
      "File \u001b[1;32m~\\AppData\\Local\\Packages\\PythonSoftwareFoundation.Python.3.12_qbz5n2kfra8p0\\LocalCache\\local-packages\\Python312\\site-packages\\pyspark\\ml\\image.py:31\u001b[0m\n\u001b[0;32m     28\u001b[0m \u001b[38;5;28;01mfrom\u001b[39;00m \u001b[38;5;21;01mtyping\u001b[39;00m \u001b[38;5;28;01mimport\u001b[39;00m Any, Dict, List, NoReturn, Optional, cast\n\u001b[0;32m     30\u001b[0m \u001b[38;5;28;01mimport\u001b[39;00m \u001b[38;5;21;01mnumpy\u001b[39;00m \u001b[38;5;28;01mas\u001b[39;00m \u001b[38;5;21;01mnp\u001b[39;00m\n\u001b[1;32m---> 31\u001b[0m \u001b[38;5;28;01mfrom\u001b[39;00m \u001b[38;5;21;01mdistutils\u001b[39;00m\u001b[38;5;21;01m.\u001b[39;00m\u001b[38;5;21;01mversion\u001b[39;00m \u001b[38;5;28;01mimport\u001b[39;00m LooseVersion\n\u001b[0;32m     33\u001b[0m \u001b[38;5;28;01mfrom\u001b[39;00m \u001b[38;5;21;01mpyspark\u001b[39;00m \u001b[38;5;28;01mimport\u001b[39;00m SparkContext\n\u001b[0;32m     34\u001b[0m \u001b[38;5;28;01mfrom\u001b[39;00m \u001b[38;5;21;01mpyspark\u001b[39;00m\u001b[38;5;21;01m.\u001b[39;00m\u001b[38;5;21;01msql\u001b[39;00m\u001b[38;5;21;01m.\u001b[39;00m\u001b[38;5;21;01mtypes\u001b[39;00m \u001b[38;5;28;01mimport\u001b[39;00m Row, StructType, _create_row, _parse_datatype_json_string\n",
      "\u001b[1;31mModuleNotFoundError\u001b[0m: No module named 'distutils'"
     ]
    }
   ],
   "source": [
    "from pyspark.ml.feature import Imputer\n",
    "imputer = Imputer(\n",
    "    inputCols=my_data.columns,\n",
    "    outputCols=[\"{}_imputed\".format(c) for c in my_data.columns]\n",
    "    ).setStrategy(\"median\")\n",
    "\n",
    "\n",
    "my_data1 = imputer.fit(my_data).transform(my_data)"
   ]
  },
  {
   "cell_type": "code",
   "execution_count": null,
   "id": "4bcd8bc3-9f2b-4638-882b-f60e366ce55b",
   "metadata": {},
   "outputs": [
    {
     "data": {
      "text/plain": [
       "[Row(Pregnancies=6, Glucose=148, BloodPressure=72, SkinThickness=35, Insulin=0, BMI=33.6, DiabetesPedigreeFunction=0.627, Age=50, Outcome=1, Pregnancies_imputed=6, Glucose_imputed=148, BloodPressure_imputed=72, SkinThickness_imputed=35, Insulin_imputed=0, BMI_imputed=33.6, DiabetesPedigreeFunction_imputed=0.627, Age_imputed=50, Outcome_imputed=1),\n",
       " Row(Pregnancies=1, Glucose=85, BloodPressure=66, SkinThickness=29, Insulin=0, BMI=26.6, DiabetesPedigreeFunction=0.351, Age=31, Outcome=0, Pregnancies_imputed=1, Glucose_imputed=85, BloodPressure_imputed=66, SkinThickness_imputed=29, Insulin_imputed=0, BMI_imputed=26.6, DiabetesPedigreeFunction_imputed=0.351, Age_imputed=31, Outcome_imputed=0),\n",
       " Row(Pregnancies=8, Glucose=183, BloodPressure=64, SkinThickness=0, Insulin=0, BMI=23.3, DiabetesPedigreeFunction=0.672, Age=32, Outcome=1, Pregnancies_imputed=8, Glucose_imputed=183, BloodPressure_imputed=64, SkinThickness_imputed=0, Insulin_imputed=0, BMI_imputed=23.3, DiabetesPedigreeFunction_imputed=0.672, Age_imputed=32, Outcome_imputed=1),\n",
       " Row(Pregnancies=1, Glucose=89, BloodPressure=66, SkinThickness=23, Insulin=94, BMI=28.1, DiabetesPedigreeFunction=0.167, Age=21, Outcome=0, Pregnancies_imputed=1, Glucose_imputed=89, BloodPressure_imputed=66, SkinThickness_imputed=23, Insulin_imputed=94, BMI_imputed=28.1, DiabetesPedigreeFunction_imputed=0.167, Age_imputed=21, Outcome_imputed=0),\n",
       " Row(Pregnancies=0, Glucose=137, BloodPressure=40, SkinThickness=35, Insulin=168, BMI=43.1, DiabetesPedigreeFunction=2.288, Age=33, Outcome=1, Pregnancies_imputed=0, Glucose_imputed=137, BloodPressure_imputed=40, SkinThickness_imputed=35, Insulin_imputed=168, BMI_imputed=43.1, DiabetesPedigreeFunction_imputed=2.288, Age_imputed=33, Outcome_imputed=1),\n",
       " Row(Pregnancies=5, Glucose=116, BloodPressure=74, SkinThickness=0, Insulin=0, BMI=25.6, DiabetesPedigreeFunction=0.201, Age=30, Outcome=0, Pregnancies_imputed=5, Glucose_imputed=116, BloodPressure_imputed=74, SkinThickness_imputed=0, Insulin_imputed=0, BMI_imputed=25.6, DiabetesPedigreeFunction_imputed=0.201, Age_imputed=30, Outcome_imputed=0),\n",
       " Row(Pregnancies=3, Glucose=78, BloodPressure=50, SkinThickness=32, Insulin=88, BMI=31.0, DiabetesPedigreeFunction=0.248, Age=26, Outcome=1, Pregnancies_imputed=3, Glucose_imputed=78, BloodPressure_imputed=50, SkinThickness_imputed=32, Insulin_imputed=88, BMI_imputed=31.0, DiabetesPedigreeFunction_imputed=0.248, Age_imputed=26, Outcome_imputed=1),\n",
       " Row(Pregnancies=10, Glucose=115, BloodPressure=0, SkinThickness=0, Insulin=0, BMI=35.3, DiabetesPedigreeFunction=0.134, Age=29, Outcome=0, Pregnancies_imputed=10, Glucose_imputed=115, BloodPressure_imputed=0, SkinThickness_imputed=0, Insulin_imputed=0, BMI_imputed=35.3, DiabetesPedigreeFunction_imputed=0.134, Age_imputed=29, Outcome_imputed=0),\n",
       " Row(Pregnancies=2, Glucose=197, BloodPressure=70, SkinThickness=45, Insulin=543, BMI=30.5, DiabetesPedigreeFunction=0.158, Age=53, Outcome=1, Pregnancies_imputed=2, Glucose_imputed=197, BloodPressure_imputed=70, SkinThickness_imputed=45, Insulin_imputed=543, BMI_imputed=30.5, DiabetesPedigreeFunction_imputed=0.158, Age_imputed=53, Outcome_imputed=1),\n",
       " Row(Pregnancies=8, Glucose=125, BloodPressure=96, SkinThickness=0, Insulin=0, BMI=0.0, DiabetesPedigreeFunction=0.232, Age=54, Outcome=1, Pregnancies_imputed=8, Glucose_imputed=125, BloodPressure_imputed=96, SkinThickness_imputed=0, Insulin_imputed=0, BMI_imputed=0.0, DiabetesPedigreeFunction_imputed=0.232, Age_imputed=54, Outcome_imputed=1)]"
      ]
     },
     "execution_count": 11,
     "metadata": {},
     "output_type": "execute_result"
    }
   ],
   "source": [
    "my_data1.head(10)"
   ]
  },
  {
   "cell_type": "code",
   "execution_count": null,
   "id": "2a30a365-652c-4f67-8516-82f431a59e55",
   "metadata": {},
   "outputs": [
    {
     "name": "stdout",
     "output_type": "stream",
     "text": [
      "+--------------------+-------+\n",
      "|            features|Outcome|\n",
      "+--------------------+-------+\n",
      "|[6.0,148.0,72.0,3...|      1|\n",
      "|[1.0,85.0,66.0,29...|      0|\n",
      "|[8.0,183.0,64.0,0...|      1|\n",
      "|[1.0,89.0,66.0,23...|      0|\n",
      "|[0.0,137.0,40.0,3...|      1|\n",
      "+--------------------+-------+\n",
      "only showing top 5 rows\n",
      "\n"
     ]
    }
   ],
   "source": [
    "from pyspark.ml.feature import VectorAssembler\n",
    "\n",
    "# specify the input and output columns of the vector assembler\n",
    "assembler = VectorAssembler(inputCols=['Pregnancies',\n",
    "                                       'Glucose',\n",
    "                                       'BloodPressure',\n",
    "                                       'SkinThickness',\n",
    "                                       'Insulin',\n",
    "                                       'BMI',\n",
    "                                       'DiabetesPedigreeFunction',\n",
    "                                       'Age'],\n",
    "                           outputCol='features')\n",
    "\n",
    "\n",
    "# transform the data\n",
    "final_data = assembler.transform(my_data1)\n",
    "\n",
    "# view the transformed vector\n",
    "\n",
    "final_data.select(\"features\",\"Outcome\").show(5)"
   ]
  },
  {
   "cell_type": "code",
   "execution_count": null,
   "id": "ef5cbc0c-0dc8-4d7f-baf8-7ded9a34e70e",
   "metadata": {},
   "outputs": [],
   "source": [
    "from pyspark.ml.classification import LogisticRegression\n",
    "xtrain, xtest = final_data.randomSplit([0.7, 0.3])"
   ]
  },
  {
   "cell_type": "code",
   "execution_count": null,
   "id": "9646fed1-5c6c-4c49-9b59-7f50c507f5af",
   "metadata": {},
   "outputs": [],
   "source": [
    "lr = LogisticRegression(featuresCol = 'features', labelCol = 'Outcome', maxIter=10)"
   ]
  },
  {
   "cell_type": "code",
   "execution_count": null,
   "id": "9689152e-54b9-461d-a72e-8279c79e9258",
   "metadata": {},
   "outputs": [],
   "source": [
    "lrModel = lr.fit(xtrain)"
   ]
  },
  {
   "cell_type": "code",
   "execution_count": null,
   "id": "b371926e-ff3c-4cae-a3c0-82c3a7452ed9",
   "metadata": {},
   "outputs": [],
   "source": [
    "predictions = lrModel.transform(xtest)"
   ]
  },
  {
   "cell_type": "code",
   "execution_count": null,
   "id": "1d7e5dde-7b0b-49ab-b7bd-08fc5129fdcd",
   "metadata": {},
   "outputs": [
    {
     "name": "stdout",
     "output_type": "stream",
     "text": [
      "+-----------+-------+-------------+-------------+-------+----+------------------------+---+-------+-------------------+---------------+---------------------+---------------------+---------------+-----------+--------------------------------+-----------+---------------+--------------------+--------------------+--------------------+----------+\n",
      "|Pregnancies|Glucose|BloodPressure|SkinThickness|Insulin| BMI|DiabetesPedigreeFunction|Age|Outcome|Pregnancies_imputed|Glucose_imputed|BloodPressure_imputed|SkinThickness_imputed|Insulin_imputed|BMI_imputed|DiabetesPedigreeFunction_imputed|Age_imputed|Outcome_imputed|            features|       rawPrediction|         probability|prediction|\n",
      "+-----------+-------+-------------+-------------+-------+----+------------------------+---+-------+-------------------+---------------+---------------------+---------------------+---------------+-----------+--------------------------------+-----------+---------------+--------------------+--------------------+--------------------+----------+\n",
      "|          0|     57|           60|            0|      0|21.7|                   0.735| 67|      0|                  0|             57|                   60|                    0|              0|       21.7|                           0.735|         67|              0|[0.0,57.0,60.0,0....|[3.77351465586401...|[0.97754464079031...|       0.0|\n",
      "|          0|     78|           88|           29|     40|36.9|                   0.434| 21|      0|                  0|             78|                   88|                   29|             40|       36.9|                           0.434|         21|              0|[0.0,78.0,88.0,29...|[2.61048536587926...|[0.93153335889131...|       0.0|\n",
      "|          0|     84|           82|           31|    125|38.2|                   0.233| 23|      0|                  0|             84|                   82|                   31|            125|       38.2|                           0.233|         23|              0|[0.0,84.0,82.0,31...|[2.57424132479783...|[0.92918528357328...|       0.0|\n",
      "|          0|     86|           68|           32|      0|35.8|                   0.238| 25|      0|                  0|             86|                   68|                   32|              0|       35.8|                           0.238|         25|              0|[0.0,86.0,68.0,32...|[2.35563582870168...|[0.91338115195118...|       0.0|\n",
      "|          0|     91|           68|           32|    210|39.9|                   0.381| 25|      0|                  0|             91|                   68|                   32|            210|       39.9|                           0.381|         25|              0|[0.0,91.0,68.0,32...|[1.87000596242991...|[0.86645896736809...|       0.0|\n",
      "+-----------+-------+-------------+-------------+-------+----+------------------------+---+-------+-------------------+---------------+---------------------+---------------------+---------------+-----------+--------------------------------+-----------+---------------+--------------------+--------------------+--------------------+----------+\n",
      "only showing top 5 rows\n",
      "\n"
     ]
    }
   ],
   "source": [
    "predictions.show(5)"
   ]
  },
  {
   "cell_type": "code",
   "execution_count": null,
   "id": "f8181d9f-7b2c-4216-b643-92615329780c",
   "metadata": {},
   "outputs": [
    {
     "data": {
      "text/plain": [
       "MulticlassClassificationEvaluator_79c6b000bee7"
      ]
     },
     "execution_count": 18,
     "metadata": {},
     "output_type": "execute_result"
    }
   ],
   "source": [
    "from pyspark.ml.evaluation import MulticlassClassificationEvaluator\n",
    "evaluator = MulticlassClassificationEvaluator()\n",
    "evaluator.setLabelCol(\"Outcome\")"
   ]
  },
  {
   "cell_type": "code",
   "execution_count": null,
   "id": "ee9a4519-995b-44ee-a85f-637822d23d9c",
   "metadata": {},
   "outputs": [
    {
     "data": {
      "text/plain": [
       "MulticlassClassificationEvaluator_79c6b000bee7"
      ]
     },
     "execution_count": 19,
     "metadata": {},
     "output_type": "execute_result"
    }
   ],
   "source": [
    "evaluator.setPredictionCol(\"prediction\")"
   ]
  },
  {
   "cell_type": "code",
   "execution_count": null,
   "id": "23e67f31-ccc0-4daa-8f7d-5667b2dea3bb",
   "metadata": {},
   "outputs": [
    {
     "data": {
      "text/plain": [
       "0.767017617357176"
      ]
     },
     "execution_count": 20,
     "metadata": {},
     "output_type": "execute_result"
    }
   ],
   "source": [
    "evaluator.evaluate(predictions)"
   ]
  },
  {
   "cell_type": "code",
   "execution_count": null,
   "id": "44857f89-ff36-4597-9962-f52f0518464b",
   "metadata": {},
   "outputs": [],
   "source": []
  }
 ],
 "metadata": {
  "kernelspec": {
   "display_name": "Python 3 (ipykernel)",
   "language": "python",
   "name": "python3"
  },
  "language_info": {
   "codemirror_mode": {
    "name": "ipython",
    "version": 3
   },
   "file_extension": ".py",
   "mimetype": "text/x-python",
   "name": "python",
   "nbconvert_exporter": "python",
   "pygments_lexer": "ipython3",
   "version": "3.12.3"
  }
 },
 "nbformat": 4,
 "nbformat_minor": 5
}
