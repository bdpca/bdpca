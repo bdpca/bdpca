{
 "cells": [
  {
   "cell_type": "code",
   "execution_count": 3,
   "metadata": {},
   "outputs": [
    {
     "name": "stdout",
     "output_type": "stream",
     "text": [
      "MinHash signature for 1.txt: [1, 5, inf, inf, inf]\n",
      "MinHash signature for 2.txt: [0, 8, inf, inf, inf]\n"
     ]
    }
   ],
   "source": [
    "def min_hash_signature(incidence_matrix, hash_functions):\n",
    "    num_files = len(incidence_matrix)\n",
    "    num_words = len(incidence_matrix[0])\n",
    "\n",
    "    min_hash_sig = [[float('inf')] * num_words for _ in range(num_files)]\n",
    "\n",
    "    for i in range(num_files):\n",
    "        for j in range(num_words):\n",
    "            if incidence_matrix[i][j] == 1:\n",
    "                for k, hash_fn in enumerate(hash_functions):\n",
    "                    hash_value = hash_fn(j)\n",
    "                    min_hash_sig[i][k] = min(min_hash_sig[i][k], hash_value)\n",
    "\n",
    "    return min_hash_sig\n",
    "\n",
    "def hash_function_1(x):\n",
    "    return (2 * x + 1) % 7\n",
    "\n",
    "def hash_function_2(x):\n",
    "    return (3 * x + 5) % 50\n",
    "\n",
    "# Read the content of the two text files and create an incidence matrix\n",
    "# You can replace this with your actual data loading logic\n",
    "input_files = [\"1.txt\", \"2.txt\"]\n",
    "incidence_matrix = [\n",
    "    [1, 0, 1, 0, 1],  # Example incidence matrix for two files\n",
    "    [0, 1, 1, 1, 0]\n",
    "]\n",
    "\n",
    "# Define the hash functions\n",
    "min_hash_functions = [hash_function_1, hash_function_2]\n",
    "\n",
    "# Calculate MinHash signatures\n",
    "min_hash_signatures = min_hash_signature(incidence_matrix, min_hash_functions)\n",
    "\n",
    "# Print the MinHash signatures for each file\n",
    "for i, file_path in enumerate(input_files):\n",
    "    print(f\"MinHash signature for {file_path}: {min_hash_signatures[i]}\")"
   ]
  }
 ],
 "metadata": {
  "kernelspec": {
   "display_name": "Python 3",
   "language": "python",
   "name": "python3"
  },
  "language_info": {
   "codemirror_mode": {
    "name": "ipython",
    "version": 3
   },
   "file_extension": ".py",
   "mimetype": "text/x-python",
   "name": "python",
   "nbconvert_exporter": "python",
   "pygments_lexer": "ipython3",
   "version": "3.12.3"
  }
 },
 "nbformat": 4,
 "nbformat_minor": 2
}
