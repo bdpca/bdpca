{
 "cells": [
  {
   "cell_type": "code",
   "execution_count": 1,
   "metadata": {},
   "outputs": [
    {
     "name": "stdout",
     "output_type": "stream",
     "text": [
      "   Number  Hash1  Hash2\n",
      "0       8      9      8\n",
      "1      17      5      0\n",
      "2      25      0      3\n",
      "3       9     10     10\n",
      "4      20      8      6\n",
      "\n",
      "Bloom filter values: [1, 0, 0, 1, 0, 1, 1, 0, 1, 1, 1, 0, 0]\n",
      "\n",
      "Check for new number 7.\n",
      "Result: 7 might be in the set (Possible False Positive)\n",
      "Hash values of new number are hash1 = 8 and hash2 = 6.\n"
     ]
    }
   ],
   "source": [
    "import pandas as pd\n",
    "bit_array = 13\n",
    "bloom_filter = [0] * bit_array\n",
    "hash1 = lambda x: (x + 1) % 13\n",
    "hash2 = lambda x: (2 * x + 5) % 13\n",
    "numbers = [8, 17, 25, 9, 20]\n",
    "for num in numbers:\n",
    " index1 = hash1(num)\n",
    " index2 = hash2(num)\n",
    " bloom_filter[index1] = 1\n",
    " bloom_filter[index2] = 1\n",
    "data = {'Number': numbers, 'Hash1': [hash1(x) for x in numbers], 'Hash2': [hash2(x) for x in numbers]}\n",
    "print(pd.DataFrame(data))\n",
    "print(\"\\nBloom filter values:\", bloom_filter)\n",
    "check_num = 7\n",
    "check1 = hash1(check_num)\n",
    "check2 = hash2(check_num)\n",
    "print(f\"\\nCheck for new number {check_num}.\")\n",
    "if bloom_filter[check1] == 1 and bloom_filter[check2] == 1:\n",
    " print(f\"Result: {check_num} might be in the set (Possible False Positive)\")\n",
    "else:\n",
    " print(f\"Result: {check_num} is definitely not in the set\")\n",
    "print(f\"Hash values of new number are hash1 = {check1} and hash2 = {check2}.\")"
   ]
  }
 ],
 "metadata": {
  "kernelspec": {
   "display_name": "Python 3",
   "language": "python",
   "name": "python3"
  },
  "language_info": {
   "codemirror_mode": {
    "name": "ipython",
    "version": 3
   },
   "file_extension": ".py",
   "mimetype": "text/x-python",
   "name": "python",
   "nbconvert_exporter": "python",
   "pygments_lexer": "ipython3",
   "version": "3.12.3"
  }
 },
 "nbformat": 4,
 "nbformat_minor": 2
}
